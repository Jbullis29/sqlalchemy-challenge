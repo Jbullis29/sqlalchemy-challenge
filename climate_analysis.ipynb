{
 "cells": [
  {
   "cell_type": "code",
   "execution_count": 14,
   "metadata": {},
   "outputs": [],
   "source": [
    "%matplotlib inline\n",
    "from matplotlib import style\n",
    "style.use('fivethirtyeight')\n",
    "import matplotlib.pyplot as plt"
   ]
  },
  {
   "cell_type": "code",
   "execution_count": 15,
   "metadata": {},
   "outputs": [],
   "source": [
    "import numpy as np\n",
    "import pandas as pd\n",
    "import datetime as dt"
   ]
  },
  {
   "cell_type": "markdown",
   "metadata": {},
   "source": [
    "# Reflect Tables into SQLAlchemy ORM"
   ]
  },
  {
   "cell_type": "code",
   "execution_count": 16,
   "metadata": {},
   "outputs": [],
   "source": [
    "# Python SQL toolkit and Object Relational Mapper\n",
    "import sqlalchemy\n",
    "from sqlalchemy.ext.automap import automap_base\n",
    "from sqlalchemy.orm import Session\n",
    "from sqlalchemy import create_engine, func, inspect"
   ]
  },
  {
   "cell_type": "code",
   "execution_count": 17,
   "metadata": {},
   "outputs": [],
   "source": [
    "# create engine to hawaii.sqlite\n",
    "engine = create_engine(\"sqlite:///Data/hawaii.sqlite\")\n",
    "#connect spector function to engine\n",
    "insp = inspect(engine)"
   ]
  },
  {
   "cell_type": "code",
   "execution_count": 18,
   "metadata": {},
   "outputs": [],
   "source": [
    "# reflect an existing database into a new model\n",
    "Base = automap_base()\n",
    "\n",
    "# reflect the tables\n",
    "Base.prepare(engine, reflect = True)"
   ]
  },
  {
   "cell_type": "code",
   "execution_count": 19,
   "metadata": {},
   "outputs": [
    {
     "name": "stdout",
     "output_type": "stream",
     "text": [
      "['measurement', 'station']\n"
     ]
    }
   ],
   "source": [
    "# View all of the classes that automap found\n",
    "#used inspect fuction to inspect tables\n",
    "print(insp.get_table_names())"
   ]
  },
  {
   "cell_type": "code",
   "execution_count": 20,
   "metadata": {},
   "outputs": [],
   "source": [
    "# Save references to each table\n",
    "#create measrement table\n",
    "measurement = Base.classes.measurement\n",
    "#create station table\n",
    "station = Base.classes.station"
   ]
  },
  {
   "cell_type": "code",
   "execution_count": 21,
   "metadata": {},
   "outputs": [],
   "source": [
    "# Create our session (link) from Python to the DB\n",
    "sesh = Session(engine)"
   ]
  },
  {
   "cell_type": "markdown",
   "metadata": {},
   "source": [
    "# Exploratory Precipitation Analysis"
   ]
  },
  {
   "cell_type": "code",
   "execution_count": 22,
   "metadata": {},
   "outputs": [
    {
     "name": "stdout",
     "output_type": "stream",
     "text": [
      "id INTEGER\n",
      "station TEXT\n",
      "date TEXT\n",
      "prcp FLOAT\n",
      "tobs FLOAT\n"
     ]
    }
   ],
   "source": [
    "# Find the most recent date in the data set.\n",
    "#inspect columns to get column names\n",
    "columns = insp.get_columns('measurement')\n",
    "for column in columns:\n",
    "    print(column['name'],column['type'])"
   ]
  },
  {
   "cell_type": "code",
   "execution_count": 23,
   "metadata": {},
   "outputs": [
    {
     "name": "stdout",
     "output_type": "stream",
     "text": [
      "the most recent date taken in the database was taken on 2017-08-23\n"
     ]
    }
   ],
   "source": [
    "#saving most recent recording to a variable using SQL max function and engine execute\n",
    "most_recent = engine.execute('SELECT max(date) FROM measurement').fetchall()\n",
    "#Unpacking the value using list comprehesion \n",
    "most_recent = most_recent[0][0]\n",
    "#print statement showing when the most recent date was taken\n",
    "print(f'the most recent date taken in the database was taken on {most_recent}')"
   ]
  },
  {
   "cell_type": "code",
   "execution_count": 24,
   "metadata": {},
   "outputs": [
    {
     "name": "stdout",
     "output_type": "stream",
     "text": [
      "one year from the last taken date: 2017-08-23 would be: 2016-08-23\n"
     ]
    },
    {
     "data": {
      "image/png": "[encoded data removed]",
      "text/plain": [
       "<Figure size 432x288 with 1 Axes>"
      ]
     },
     "metadata": {},
     "output_type": "display_data"
    }
   ],
   "source": [
    "# Design a query to retrieve the last 12 months of precipitation data and plot the results. \n",
    "# Starting from the most recent data point in the database.\n",
    "\n",
    "#import datetime function as dt\n",
    "import datetime as dt\n",
    "start_date = dt.datetime(2016, 8, 23)\n",
    "\n",
    "# Calculate the date one year from the last date in data set.\n",
    "#I just simply picked the same date exactly one year prior to last recorded date\n",
    "print(f'one year from the last taken date: {most_recent} would be: 2016-08-23')\n",
    "\n",
    "# Performing a query to get the date and precipitation from the measurements table\n",
    "#storing the data in a variable called results\n",
    "results = sesh.query(measurement.date, measurement.prcp).\\\n",
    "    filter(measurement.date >= start_date).all()\n",
    "\n",
    "#looping thtough my resutls query and sorting them in my prcp tuple\n",
    "prcp = [{'date': result[0], 'precipitation': result[1]} for result in results]\n",
    "\n",
    "\n",
    "#Created a dataframe out of my tuple\n",
    "precip_df = pd.DataFrame(prcp)\n",
    "#Dropped the NaNs because theyre useless in this case \n",
    "precip_df = precip_df.dropna()\n",
    "\n",
    "#Plotting by date seemed to complex so I thought plotting by month and year is better\n",
    "#So I created a new colum to drop the dates frome date column and return just month year\n",
    "# This made grouping easier and plotting easier to interprate\n",
    "precip_df['date'] = pd.to_datetime(precip_df['date'])\n",
    "precip_df['month/year'] = precip_df['date'].apply(lambda x: x.strftime('%Y-%m'))\n",
    "\n",
    "#Plotted data by grouping month/year and adding all the precipitations for that month\n",
    "precip_df.groupby('month/year')['precipitation'].sum().plot.bar()\n",
    "plt.xlabel('Month/Year')\n",
    "plt.ylabel('Total rainfall (in)')\n",
    "plt.title('Total rainfall (in) per month');\n",
    "\n"
   ]
  },
  {
   "cell_type": "code",
   "execution_count": 25,
   "metadata": {},
   "outputs": [
    {
     "data": {
      "text/html": [
       "<div>\n",
       "<style scoped>\n",
       "    .dataframe tbody tr th:only-of-type {\n",
       "        vertical-align: middle;\n",
       "    }\n",
       "\n",
       "    .dataframe tbody tr th {\n",
       "        vertical-align: top;\n",
       "    }\n",
       "\n",
       "    .dataframe thead th {\n",
       "        text-align: right;\n",
       "    }\n",
       "</style>\n",
       "<table border=\"1\" class=\"dataframe\">\n",
       "  <thead>\n",
       "    <tr style=\"text-align: right;\">\n",
       "      <th></th>\n",
       "      <th>count</th>\n",
       "      <th>mean</th>\n",
       "      <th>std</th>\n",
       "      <th>min</th>\n",
       "      <th>25%</th>\n",
       "      <th>50%</th>\n",
       "      <th>75%</th>\n",
       "      <th>max</th>\n",
       "    </tr>\n",
       "    <tr>\n",
       "      <th>month/year</th>\n",
       "      <th></th>\n",
       "      <th></th>\n",
       "      <th></th>\n",
       "      <th></th>\n",
       "      <th></th>\n",
       "      <th></th>\n",
       "      <th></th>\n",
       "      <th></th>\n",
       "    </tr>\n",
       "  </thead>\n",
       "  <tbody>\n",
       "    <tr>\n",
       "      <th>2016-08</th>\n",
       "      <td>47.0</td>\n",
       "      <td>0.385106</td>\n",
       "      <td>0.708050</td>\n",
       "      <td>0.0</td>\n",
       "      <td>0.005</td>\n",
       "      <td>0.08</td>\n",
       "      <td>0.2250</td>\n",
       "      <td>2.46</td>\n",
       "    </tr>\n",
       "    <tr>\n",
       "      <th>2016-09</th>\n",
       "      <td>173.0</td>\n",
       "      <td>0.285549</td>\n",
       "      <td>0.662214</td>\n",
       "      <td>0.0</td>\n",
       "      <td>0.010</td>\n",
       "      <td>0.07</td>\n",
       "      <td>0.2700</td>\n",
       "      <td>6.70</td>\n",
       "    </tr>\n",
       "    <tr>\n",
       "      <th>2016-10</th>\n",
       "      <td>179.0</td>\n",
       "      <td>0.121620</td>\n",
       "      <td>0.344809</td>\n",
       "      <td>0.0</td>\n",
       "      <td>0.000</td>\n",
       "      <td>0.01</td>\n",
       "      <td>0.0800</td>\n",
       "      <td>3.46</td>\n",
       "    </tr>\n",
       "    <tr>\n",
       "      <th>2016-11</th>\n",
       "      <td>171.0</td>\n",
       "      <td>0.120234</td>\n",
       "      <td>0.342695</td>\n",
       "      <td>0.0</td>\n",
       "      <td>0.000</td>\n",
       "      <td>0.02</td>\n",
       "      <td>0.0900</td>\n",
       "      <td>2.87</td>\n",
       "    </tr>\n",
       "    <tr>\n",
       "      <th>2016-12</th>\n",
       "      <td>178.0</td>\n",
       "      <td>0.199494</td>\n",
       "      <td>0.342967</td>\n",
       "      <td>0.0</td>\n",
       "      <td>0.020</td>\n",
       "      <td>0.06</td>\n",
       "      <td>0.2475</td>\n",
       "      <td>2.37</td>\n",
       "    </tr>\n",
       "    <tr>\n",
       "      <th>2017-01</th>\n",
       "      <td>170.0</td>\n",
       "      <td>0.070294</td>\n",
       "      <td>0.276047</td>\n",
       "      <td>0.0</td>\n",
       "      <td>0.000</td>\n",
       "      <td>0.00</td>\n",
       "      <td>0.0175</td>\n",
       "      <td>2.64</td>\n",
       "    </tr>\n",
       "    <tr>\n",
       "      <th>2017-02</th>\n",
       "      <td>162.0</td>\n",
       "      <td>0.241111</td>\n",
       "      <td>0.672922</td>\n",
       "      <td>0.0</td>\n",
       "      <td>0.000</td>\n",
       "      <td>0.00</td>\n",
       "      <td>0.0600</td>\n",
       "      <td>5.04</td>\n",
       "    </tr>\n",
       "    <tr>\n",
       "      <th>2017-03</th>\n",
       "      <td>169.0</td>\n",
       "      <td>0.175266</td>\n",
       "      <td>0.431165</td>\n",
       "      <td>0.0</td>\n",
       "      <td>0.000</td>\n",
       "      <td>0.00</td>\n",
       "      <td>0.0800</td>\n",
       "      <td>2.40</td>\n",
       "    </tr>\n",
       "    <tr>\n",
       "      <th>2017-04</th>\n",
       "      <td>171.0</td>\n",
       "      <td>0.321111</td>\n",
       "      <td>0.702469</td>\n",
       "      <td>0.0</td>\n",
       "      <td>0.000</td>\n",
       "      <td>0.02</td>\n",
       "      <td>0.3100</td>\n",
       "      <td>6.25</td>\n",
       "    </tr>\n",
       "    <tr>\n",
       "      <th>2017-05</th>\n",
       "      <td>167.0</td>\n",
       "      <td>0.151317</td>\n",
       "      <td>0.315384</td>\n",
       "      <td>0.0</td>\n",
       "      <td>0.000</td>\n",
       "      <td>0.02</td>\n",
       "      <td>0.1250</td>\n",
       "      <td>2.17</td>\n",
       "    </tr>\n",
       "    <tr>\n",
       "      <th>2017-06</th>\n",
       "      <td>171.0</td>\n",
       "      <td>0.120000</td>\n",
       "      <td>0.217726</td>\n",
       "      <td>0.0</td>\n",
       "      <td>0.000</td>\n",
       "      <td>0.02</td>\n",
       "      <td>0.1500</td>\n",
       "      <td>1.69</td>\n",
       "    </tr>\n",
       "    <tr>\n",
       "      <th>2017-07</th>\n",
       "      <td>176.0</td>\n",
       "      <td>0.134773</td>\n",
       "      <td>0.386084</td>\n",
       "      <td>0.0</td>\n",
       "      <td>0.000</td>\n",
       "      <td>0.02</td>\n",
       "      <td>0.1125</td>\n",
       "      <td>4.00</td>\n",
       "    </tr>\n",
       "    <tr>\n",
       "      <th>2017-08</th>\n",
       "      <td>81.0</td>\n",
       "      <td>0.063951</td>\n",
       "      <td>0.126023</td>\n",
       "      <td>0.0</td>\n",
       "      <td>0.000</td>\n",
       "      <td>0.00</td>\n",
       "      <td>0.0600</td>\n",
       "      <td>0.56</td>\n",
       "    </tr>\n",
       "  </tbody>\n",
       "</table>\n",
       "</div>"
      ],
      "text/plain": [
       "            count      mean       std  min    25%   50%     75%   max\n",
       "month/year                                                           \n",
       "2016-08      47.0  0.385106  0.708050  0.0  0.005  0.08  0.2250  2.46\n",
       "2016-09     173.0  0.285549  0.662214  0.0  0.010  0.07  0.2700  6.70\n",
       "2016-10     179.0  0.121620  0.344809  0.0  0.000  0.01  0.0800  3.46\n",
       "2016-11     171.0  0.120234  0.342695  0.0  0.000  0.02  0.0900  2.87\n",
       "2016-12     178.0  0.199494  0.342967  0.0  0.020  0.06  0.2475  2.37\n",
       "2017-01     170.0  0.070294  0.276047  0.0  0.000  0.00  0.0175  2.64\n",
       "2017-02     162.0  0.241111  0.672922  0.0  0.000  0.00  0.0600  5.04\n",
       "2017-03     169.0  0.175266  0.431165  0.0  0.000  0.00  0.0800  2.40\n",
       "2017-04     171.0  0.321111  0.702469  0.0  0.000  0.02  0.3100  6.25\n",
       "2017-05     167.0  0.151317  0.315384  0.0  0.000  0.02  0.1250  2.17\n",
       "2017-06     171.0  0.120000  0.217726  0.0  0.000  0.02  0.1500  1.69\n",
       "2017-07     176.0  0.134773  0.386084  0.0  0.000  0.02  0.1125  4.00\n",
       "2017-08      81.0  0.063951  0.126023  0.0  0.000  0.00  0.0600  0.56"
      ]
     },
     "execution_count": 25,
     "metadata": {},
     "output_type": "execute_result"
    }
   ],
   "source": [
    "# Use Pandas to calcualte the summary statistics for the precipitation data\n",
    "#For a more exact describe I grouped everything by month and then described the precip\n",
    "#this gave us the monthly average, Standard Dev, and Max for each month\n",
    "precip_df.groupby('month/year')['precipitation'].describe()"
   ]
  },
  {
   "cell_type": "markdown",
   "metadata": {},
   "source": [
    "# Exploratory Station Analysis"
   ]
  },
  {
   "cell_type": "code",
   "execution_count": 26,
   "metadata": {},
   "outputs": [
    {
     "name": "stdout",
     "output_type": "stream",
     "text": [
      "id INTEGER\n",
      "station TEXT\n",
      "name TEXT\n",
      "latitude FLOAT\n",
      "longitude FLOAT\n",
      "elevation FLOAT\n"
     ]
    }
   ],
   "source": [
    "#For loop to return the column names of the station Table \n",
    "columns = insp.get_columns('station')\n",
    "for column in columns:\n",
    "    print(column['name'],column['type'])"
   ]
  },
  {
   "cell_type": "code",
   "execution_count": 27,
   "metadata": {},
   "outputs": [
    {
     "name": "stdout",
     "output_type": "stream",
     "text": [
      "There are a total of: 9 stations\n"
     ]
    }
   ],
   "source": [
    "#Query to return the count of station column\n",
    "stations = engine.execute('SELECT count(station) FROM station').fetchall()[0][0]\n",
    "print(f'There are a total of: {stations} stations')"
   ]
  },
  {
   "cell_type": "code",
   "execution_count": 28,
   "metadata": {
    "scrolled": true
   },
   "outputs": [
    {
     "data": {
      "text/plain": [
       "[('USC00519281', 2772),\n",
       " ('USC00519397', 2724),\n",
       " ('USC00513117', 2709),\n",
       " ('USC00519523', 2669),\n",
       " ('USC00516128', 2612),\n",
       " ('USC00514830', 2202),\n",
       " ('USC00511918', 1979),\n",
       " ('USC00517948', 1372),\n",
       " ('USC00518838', 511)]"
      ]
     },
     "execution_count": 28,
     "metadata": {},
     "output_type": "execute_result"
    }
   ],
   "source": [
    "#Queried to return station name from the measurement table\n",
    "#and the count that each station appears in the table\n",
    "station_count = sesh.query(measurement.station, func.count(measurement.station)).\\\n",
    "group_by(measurement.station).\\\n",
    "order_by(func.count(measurement.station).desc()).all()\n",
    "station_count"
   ]
  },
  {
   "cell_type": "code",
   "execution_count": 29,
   "metadata": {},
   "outputs": [],
   "source": [
    "#Quried to get the max, min, and average temps  for the station with the most recordings\n",
    "calcs = sesh.query(func.min(measurement.tobs), func.max(measurement.tobs), func.avg(measurement.tobs)).\\\n",
    "filter(measurement.station == station_count[0][0]).all()\n",
    "lowest = calcs[0][0]\n",
    "highest = calcs[0][1]\n",
    "average = round(calcs[0][2],2)"
   ]
  },
  {
   "cell_type": "code",
   "execution_count": 31,
   "metadata": {},
   "outputs": [
    {
     "name": "stdout",
     "output_type": "stream",
     "text": [
      "At station USC00519281:\n",
      "The lowest recorded temp is 54.0\n",
      "The highest recorded temp is 85.0\n",
      "The average of all recorded temps is 71.66\n"
     ]
    }
   ],
   "source": [
    "#Print Statments to nicely display the data collected\n",
    "print(f'At station {station_count[0][0]}:')\n",
    "print(f'The lowest recorded temp is {lowest}')\n",
    "print(f'The highest recorded temp is {highest}')\n",
    "print(f'The average of all recorded temps is {average}')"
   ]
  },
  {
   "cell_type": "code",
   "execution_count": 32,
   "metadata": {},
   "outputs": [
    {
     "data": {
      "text/html": [
       "<div>\n",
       "<style scoped>\n",
       "    .dataframe tbody tr th:only-of-type {\n",
       "        vertical-align: middle;\n",
       "    }\n",
       "\n",
       "    .dataframe tbody tr th {\n",
       "        vertical-align: top;\n",
       "    }\n",
       "\n",
       "    .dataframe thead th {\n",
       "        text-align: right;\n",
       "    }\n",
       "</style>\n",
       "<table border=\"1\" class=\"dataframe\">\n",
       "  <thead>\n",
       "    <tr style=\"text-align: right;\">\n",
       "      <th></th>\n",
       "      <th>station</th>\n",
       "      <th>date</th>\n",
       "      <th>temp</th>\n",
       "    </tr>\n",
       "  </thead>\n",
       "  <tbody>\n",
       "    <tr>\n",
       "      <th>0</th>\n",
       "      <td>USC00519281</td>\n",
       "      <td>2016-08-19</td>\n",
       "      <td>79.0</td>\n",
       "    </tr>\n",
       "    <tr>\n",
       "      <th>1</th>\n",
       "      <td>USC00519281</td>\n",
       "      <td>2016-08-20</td>\n",
       "      <td>81.0</td>\n",
       "    </tr>\n",
       "    <tr>\n",
       "      <th>2</th>\n",
       "      <td>USC00519281</td>\n",
       "      <td>2016-08-21</td>\n",
       "      <td>79.0</td>\n",
       "    </tr>\n",
       "    <tr>\n",
       "      <th>3</th>\n",
       "      <td>USC00519281</td>\n",
       "      <td>2016-08-22</td>\n",
       "      <td>78.0</td>\n",
       "    </tr>\n",
       "    <tr>\n",
       "      <th>4</th>\n",
       "      <td>USC00519281</td>\n",
       "      <td>2016-08-23</td>\n",
       "      <td>77.0</td>\n",
       "    </tr>\n",
       "    <tr>\n",
       "      <th>...</th>\n",
       "      <td>...</td>\n",
       "      <td>...</td>\n",
       "      <td>...</td>\n",
       "    </tr>\n",
       "    <tr>\n",
       "      <th>351</th>\n",
       "      <td>USC00519281</td>\n",
       "      <td>2017-08-14</td>\n",
       "      <td>77.0</td>\n",
       "    </tr>\n",
       "    <tr>\n",
       "      <th>352</th>\n",
       "      <td>USC00519281</td>\n",
       "      <td>2017-08-15</td>\n",
       "      <td>77.0</td>\n",
       "    </tr>\n",
       "    <tr>\n",
       "      <th>353</th>\n",
       "      <td>USC00519281</td>\n",
       "      <td>2017-08-16</td>\n",
       "      <td>76.0</td>\n",
       "    </tr>\n",
       "    <tr>\n",
       "      <th>354</th>\n",
       "      <td>USC00519281</td>\n",
       "      <td>2017-08-17</td>\n",
       "      <td>76.0</td>\n",
       "    </tr>\n",
       "    <tr>\n",
       "      <th>355</th>\n",
       "      <td>USC00519281</td>\n",
       "      <td>2017-08-18</td>\n",
       "      <td>79.0</td>\n",
       "    </tr>\n",
       "  </tbody>\n",
       "</table>\n",
       "<p>356 rows × 3 columns</p>\n",
       "</div>"
      ],
      "text/plain": [
       "         station        date  temp\n",
       "0    USC00519281  2016-08-19  79.0\n",
       "1    USC00519281  2016-08-20  81.0\n",
       "2    USC00519281  2016-08-21  79.0\n",
       "3    USC00519281  2016-08-22  78.0\n",
       "4    USC00519281  2016-08-23  77.0\n",
       "..           ...         ...   ...\n",
       "351  USC00519281  2017-08-14  77.0\n",
       "352  USC00519281  2017-08-15  77.0\n",
       "353  USC00519281  2017-08-16  76.0\n",
       "354  USC00519281  2017-08-17  76.0\n",
       "355  USC00519281  2017-08-18  79.0\n",
       "\n",
       "[356 rows x 3 columns]"
      ]
     },
     "execution_count": 32,
     "metadata": {},
     "output_type": "execute_result"
    }
   ],
   "source": [
    "#Selected date exactlyy 12 months frior to last recorded date\n",
    "start_date = dt.datetime(2016,8,18)\n",
    "\n",
    "#queried to include, station ID, Date and Temps\n",
    "#filtered data by most active stations and start dates\n",
    "temps = sesh.query(measurement.station, measurement.date, measurement.tobs).\\\n",
    "filter(measurement.station == station_count[0][0], measurement.date >= start_date).all()\n",
    "#store my data in a tuple via a for loop\n",
    "temps_list = [{'station':temp[0], 'date':temp[1], 'temp':temp[2]} for temp in temps]\n",
    "#Make Tuple into DF\n",
    "temps_df = pd.DataFrame(temps_list)\n",
    "temps_df"
   ]
  },
  {
   "cell_type": "code",
   "execution_count": 33,
   "metadata": {},
   "outputs": [
    {
     "data": {
      "image/png": "[encoded data removed]",
      "text/plain": [
       "<Figure size 432x288 with 1 Axes>"
      ]
     },
     "metadata": {},
     "output_type": "display_data"
    }
   ],
   "source": [
    "#bautiful Histagram\n",
    "temps_df.plot.hist(bins =12, ec ='black')\n",
    "plt.xlabel('Temperature')\n",
    "plt.ylabel('Number of recordings')\n",
    "plt.title('Number times a temperature was recorded at USC00519281');\n"
   ]
  },
  {
   "cell_type": "markdown",
   "metadata": {},
   "source": [
    "# Close session"
   ]
  },
  {
   "cell_type": "code",
   "execution_count": 31,
   "metadata": {},
   "outputs": [],
   "source": [
    "# Close Session\n",
    "sesh.close()"
   ]
  },
  {
   "cell_type": "code",
   "execution_count": null,
   "metadata": {},
   "outputs": [],
   "source": []
  }
 ],
 "metadata": {
  "anaconda-cloud": {},
  "kernel_info": {
   "name": "python3"
  },
  "kernelspec": {
   "display_name": "Python 3",
   "language": "python",
   "name": "python3"
  },
  "language_info": {
   "codemirror_mode": {
    "name": "ipython",
    "version": 3
   },
   "file_extension": ".py",
   "mimetype": "text/x-python",
   "name": "python",
   "nbconvert_exporter": "python",
   "pygments_lexer": "ipython3",
   "version": "3.8.5"
  },
  "nteract": {
   "version": "0.12.3"
  },
  "varInspector": {
   "cols": {
    "lenName": 16,
    "lenType": 16,
    "lenVar": 40
   },
   "kernels_config": {
    "python": {
     "delete_cmd_postfix": "",
     "delete_cmd_prefix": "del ",
     "library": "var_list.py",
     "varRefreshCmd": "print(var_dic_list())"
    },
    "r": {
     "delete_cmd_postfix": ") ",
     "delete_cmd_prefix": "rm(",
     "library": "var_list.r",
     "varRefreshCmd": "cat(var_dic_list()) "
    }
   },
   "types_to_exclude": [
    "module",
    "function",
    "builtin_function_or_method",
    "instance",
    "_Feature"
   ],
   "window_display": false
  }
 },
 "nbformat": 4,
 "nbformat_minor": 2
}
